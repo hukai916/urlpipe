{
 "cells": [
  {
   "cell_type": "code",
   "execution_count": 105,
   "id": "7a8755b2",
   "metadata": {},
   "outputs": [],
   "source": [
    "import numpy as np \n",
    "import pandas as pd\n",
    "import matplotlib.pyplot as plt\n",
    "\n",
    "cutoff_0    = \"test/7a0944b4f096ebb154369b76287b9d/stat_r1/23-PN.csv\" # tem read length without UMI correction.\n",
    "cutoff_1    = \"test/7a0944b4f096ebb154369b76287b9d/5d_r1_repeat_dist_umi_correct/cutoff_1/stat_mode_23-PN_cutoff_1.csv\"\n",
    "cutoff_3    = \"test/7a0944b4f096ebb154369b76287b9d/5d_r1_repeat_dist_umi_correct/cutoff_3/stat_mode_23-PN_cutoff_3.csv\"\n",
    "cutoff_10   = \"test/7a0944b4f096ebb154369b76287b9d/5d_r1_repeat_dist_umi_correct/cutoff_10/stat_mode_23-PN_cutoff_10.csv\"\n",
    "cutoff_30   = \"test/7a0944b4f096ebb154369b76287b9d/5d_r1_repeat_dist_umi_correct/cutoff_30/stat_mode_23-PN_cutoff_30.csv\"\n",
    "cutoff_100  = \"test/7a0944b4f096ebb154369b76287b9d/5d_r1_repeat_dist_umi_correct/cutoff_100/stat_mode_23-PN_cutoff_100.csv\"\n"
   ]
  },
  {
   "cell_type": "code",
   "execution_count": 145,
   "id": "82fddb56",
   "metadata": {},
   "outputs": [],
   "source": [
    "input_files = [cutoff_0, cutoff_1, cutoff_3, cutoff_10, cutoff_30, cutoff_100]\n",
    "sd_list = []\n",
    "raw_list = []\n",
    "\n",
    "for file in input_files:\n",
    "    tem = pd.read_csv(file)\n",
    "    tem = tem[tem.iloc[:,0] != \"problem\"]\n",
    "    tem = tem[tem.iloc[:, 0] != \"plus\"]\n",
    "    data_tem = np.repeat(tem.iloc[:, 0], tem.iloc[:, 1])\n",
    "    ls_tem = [int(x) for x in data_tem]\n",
    "    raw_list.append(ls_tem)\n",
    "    sd_list.append(np.std(ls_tem))"
   ]
  },
  {
   "cell_type": "code",
   "execution_count": 157,
   "id": "730c9d95",
   "metadata": {},
   "outputs": [
    {
     "data": {
      "image/png": "[encoded data removed]",
      "text/plain": [
       "<Figure size 432x288 with 1 Axes>"
      ]
     },
     "metadata": {},
     "output_type": "display_data"
    }
   ],
   "source": [
    "X = [\"No_correction\", \"Cutoff_1\", \"Cutoff_3\", \"Cutoff_10\", \"Cutoff_30\", \"Cutoff_100\"]\n",
    "Y = [round(x, 2) for x in sd_list]\n",
    "plt.scatter(X, sd_list)\n",
    "plt.ylim(1, 10)\n",
    "locs, labels = plt.xticks()\n",
    "for i, label in enumerate(Y):\n",
    "    plt.annotate(label, (X[i], Y[i] * 1.05))\n",
    "fig = plt.gcf()\n",
    "fig.patch.set_facecolor('xkcd:white')\n",
    "plt.savefig(\"test/test.png\")\n",
    "# plt.xticks(ticks = locs, labels = labels)"
   ]
  },
  {
   "cell_type": "code",
   "execution_count": 175,
   "id": "4190435e",
   "metadata": {},
   "outputs": [
    {
     "ename": "UFuncTypeError",
     "evalue": "ufunc 'add' did not contain a loop with signature matching types (dtype('float64'), dtype('<U1')) -> None",
     "output_type": "error",
     "traceback": [
      "\u001b[0;31m---------------------------------------------------------------------------\u001b[0m",
      "\u001b[0;31mUFuncTypeError\u001b[0m                            Traceback (most recent call last)",
      "\u001b[0;32m<ipython-input-175-f641f854ec23>\u001b[0m in \u001b[0;36m<module>\u001b[0;34m\u001b[0m\n\u001b[0;32m----> 1\u001b[0;31m \u001b[0mplt\u001b[0m\u001b[0;34m.\u001b[0m\u001b[0mviolinplot\u001b[0m\u001b[0;34m(\u001b[0m\u001b[0mraw_list\u001b[0m\u001b[0;34m,\u001b[0m \u001b[0mpositions\u001b[0m \u001b[0;34m=\u001b[0m \u001b[0;34m[\u001b[0m\u001b[0;34m\"1\"\u001b[0m\u001b[0;34m,\u001b[0m\u001b[0;34m\"2\"\u001b[0m\u001b[0;34m,\u001b[0m\u001b[0;34m\"3\"\u001b[0m\u001b[0;34m,\u001b[0m\u001b[0;34m\"4\"\u001b[0m\u001b[0;34m,\u001b[0m\u001b[0;34m\"5\"\u001b[0m\u001b[0;34m,\u001b[0m\u001b[0;34m\"6\"\u001b[0m\u001b[0;34m]\u001b[0m\u001b[0;34m)\u001b[0m\u001b[0;34m\u001b[0m\u001b[0;34m\u001b[0m\u001b[0m\n\u001b[0m\u001b[1;32m      2\u001b[0m \u001b[0mfig\u001b[0m \u001b[0;34m=\u001b[0m \u001b[0mplt\u001b[0m\u001b[0;34m.\u001b[0m\u001b[0mgcf\u001b[0m\u001b[0;34m(\u001b[0m\u001b[0;34m)\u001b[0m\u001b[0;34m\u001b[0m\u001b[0;34m\u001b[0m\u001b[0m\n\u001b[1;32m      3\u001b[0m \u001b[0mfig\u001b[0m\u001b[0;34m.\u001b[0m\u001b[0mpatch\u001b[0m\u001b[0;34m.\u001b[0m\u001b[0mset_facecolor\u001b[0m\u001b[0;34m(\u001b[0m\u001b[0;34m'xkcd:white'\u001b[0m\u001b[0;34m)\u001b[0m\u001b[0;34m\u001b[0m\u001b[0;34m\u001b[0m\u001b[0m\n\u001b[1;32m      4\u001b[0m \u001b[0;34m\u001b[0m\u001b[0m\n\u001b[1;32m      5\u001b[0m \u001b[0mplt\u001b[0m\u001b[0;34m.\u001b[0m\u001b[0mylim\u001b[0m\u001b[0;34m(\u001b[0m\u001b[0;36m0\u001b[0m\u001b[0;34m,\u001b[0m \u001b[0;36m200\u001b[0m\u001b[0;34m)\u001b[0m\u001b[0;34m\u001b[0m\u001b[0;34m\u001b[0m\u001b[0m\n",
      "\u001b[0;32m~/anaconda3/lib/python3.7/site-packages/matplotlib/pyplot.py\u001b[0m in \u001b[0;36mviolinplot\u001b[0;34m(dataset, positions, vert, widths, showmeans, showextrema, showmedians, quantiles, points, bw_method, data)\u001b[0m\n\u001b[1;32m   2990\u001b[0m         \u001b[0mshowmedians\u001b[0m\u001b[0;34m=\u001b[0m\u001b[0mshowmedians\u001b[0m\u001b[0;34m,\u001b[0m \u001b[0mquantiles\u001b[0m\u001b[0;34m=\u001b[0m\u001b[0mquantiles\u001b[0m\u001b[0;34m,\u001b[0m \u001b[0mpoints\u001b[0m\u001b[0;34m=\u001b[0m\u001b[0mpoints\u001b[0m\u001b[0;34m,\u001b[0m\u001b[0;34m\u001b[0m\u001b[0;34m\u001b[0m\u001b[0m\n\u001b[1;32m   2991\u001b[0m         \u001b[0mbw_method\u001b[0m\u001b[0;34m=\u001b[0m\u001b[0mbw_method\u001b[0m\u001b[0;34m,\u001b[0m\u001b[0;34m\u001b[0m\u001b[0;34m\u001b[0m\u001b[0m\n\u001b[0;32m-> 2992\u001b[0;31m         **({\"data\": data} if data is not None else {}))\n\u001b[0m\u001b[1;32m   2993\u001b[0m \u001b[0;34m\u001b[0m\u001b[0m\n\u001b[1;32m   2994\u001b[0m \u001b[0;34m\u001b[0m\u001b[0m\n",
      "\u001b[0;32m~/anaconda3/lib/python3.7/site-packages/matplotlib/__init__.py\u001b[0m in \u001b[0;36minner\u001b[0;34m(ax, data, *args, **kwargs)\u001b[0m\n\u001b[1;32m   1410\u001b[0m     \u001b[0;32mdef\u001b[0m \u001b[0minner\u001b[0m\u001b[0;34m(\u001b[0m\u001b[0max\u001b[0m\u001b[0;34m,\u001b[0m \u001b[0;34m*\u001b[0m\u001b[0margs\u001b[0m\u001b[0;34m,\u001b[0m \u001b[0mdata\u001b[0m\u001b[0;34m=\u001b[0m\u001b[0;32mNone\u001b[0m\u001b[0;34m,\u001b[0m \u001b[0;34m**\u001b[0m\u001b[0mkwargs\u001b[0m\u001b[0;34m)\u001b[0m\u001b[0;34m:\u001b[0m\u001b[0;34m\u001b[0m\u001b[0;34m\u001b[0m\u001b[0m\n\u001b[1;32m   1411\u001b[0m         \u001b[0;32mif\u001b[0m \u001b[0mdata\u001b[0m \u001b[0;32mis\u001b[0m \u001b[0;32mNone\u001b[0m\u001b[0;34m:\u001b[0m\u001b[0;34m\u001b[0m\u001b[0;34m\u001b[0m\u001b[0m\n\u001b[0;32m-> 1412\u001b[0;31m             \u001b[0;32mreturn\u001b[0m \u001b[0mfunc\u001b[0m\u001b[0;34m(\u001b[0m\u001b[0max\u001b[0m\u001b[0;34m,\u001b[0m \u001b[0;34m*\u001b[0m\u001b[0mmap\u001b[0m\u001b[0;34m(\u001b[0m\u001b[0msanitize_sequence\u001b[0m\u001b[0;34m,\u001b[0m \u001b[0margs\u001b[0m\u001b[0;34m)\u001b[0m\u001b[0;34m,\u001b[0m \u001b[0;34m**\u001b[0m\u001b[0mkwargs\u001b[0m\u001b[0;34m)\u001b[0m\u001b[0;34m\u001b[0m\u001b[0;34m\u001b[0m\u001b[0m\n\u001b[0m\u001b[1;32m   1413\u001b[0m \u001b[0;34m\u001b[0m\u001b[0m\n\u001b[1;32m   1414\u001b[0m         \u001b[0mbound\u001b[0m \u001b[0;34m=\u001b[0m \u001b[0mnew_sig\u001b[0m\u001b[0;34m.\u001b[0m\u001b[0mbind\u001b[0m\u001b[0;34m(\u001b[0m\u001b[0max\u001b[0m\u001b[0;34m,\u001b[0m \u001b[0;34m*\u001b[0m\u001b[0margs\u001b[0m\u001b[0;34m,\u001b[0m \u001b[0;34m**\u001b[0m\u001b[0mkwargs\u001b[0m\u001b[0;34m)\u001b[0m\u001b[0;34m\u001b[0m\u001b[0;34m\u001b[0m\u001b[0m\n",
      "\u001b[0;32m~/anaconda3/lib/python3.7/site-packages/matplotlib/axes/_axes.py\u001b[0m in \u001b[0;36mviolinplot\u001b[0;34m(self, dataset, positions, vert, widths, showmeans, showextrema, showmedians, quantiles, points, bw_method)\u001b[0m\n\u001b[1;32m   7944\u001b[0m         return self.violin(vpstats, positions=positions, vert=vert,\n\u001b[1;32m   7945\u001b[0m                            \u001b[0mwidths\u001b[0m\u001b[0;34m=\u001b[0m\u001b[0mwidths\u001b[0m\u001b[0;34m,\u001b[0m \u001b[0mshowmeans\u001b[0m\u001b[0;34m=\u001b[0m\u001b[0mshowmeans\u001b[0m\u001b[0;34m,\u001b[0m\u001b[0;34m\u001b[0m\u001b[0;34m\u001b[0m\u001b[0m\n\u001b[0;32m-> 7946\u001b[0;31m                            showextrema=showextrema, showmedians=showmedians)\n\u001b[0m\u001b[1;32m   7947\u001b[0m \u001b[0;34m\u001b[0m\u001b[0m\n\u001b[1;32m   7948\u001b[0m     def violin(self, vpstats, positions=None, vert=True, widths=0.5,\n",
      "\u001b[0;32m~/anaconda3/lib/python3.7/site-packages/matplotlib/axes/_axes.py\u001b[0m in \u001b[0;36mviolin\u001b[0;34m(self, vpstats, positions, vert, widths, showmeans, showextrema, showmedians)\u001b[0m\n\u001b[1;32m   8061\u001b[0m \u001b[0;34m\u001b[0m\u001b[0m\n\u001b[1;32m   8062\u001b[0m         \u001b[0;31m# Calculate ranges for statistics lines (shape (2, N)).\u001b[0m\u001b[0;34m\u001b[0m\u001b[0;34m\u001b[0m\u001b[0;34m\u001b[0m\u001b[0m\n\u001b[0;32m-> 8063\u001b[0;31m         \u001b[0mline_ends\u001b[0m \u001b[0;34m=\u001b[0m \u001b[0;34m[\u001b[0m\u001b[0;34m[\u001b[0m\u001b[0;34m-\u001b[0m\u001b[0;36m0.25\u001b[0m\u001b[0;34m]\u001b[0m\u001b[0;34m,\u001b[0m \u001b[0;34m[\u001b[0m\u001b[0;36m0.25\u001b[0m\u001b[0;34m]\u001b[0m\u001b[0;34m]\u001b[0m \u001b[0;34m*\u001b[0m \u001b[0mnp\u001b[0m\u001b[0;34m.\u001b[0m\u001b[0marray\u001b[0m\u001b[0;34m(\u001b[0m\u001b[0mwidths\u001b[0m\u001b[0;34m)\u001b[0m \u001b[0;34m+\u001b[0m \u001b[0mpositions\u001b[0m\u001b[0;34m\u001b[0m\u001b[0;34m\u001b[0m\u001b[0m\n\u001b[0m\u001b[1;32m   8064\u001b[0m \u001b[0;34m\u001b[0m\u001b[0m\n\u001b[1;32m   8065\u001b[0m         \u001b[0;31m# Colors.\u001b[0m\u001b[0;34m\u001b[0m\u001b[0;34m\u001b[0m\u001b[0;34m\u001b[0m\u001b[0m\n",
      "\u001b[0;31mUFuncTypeError\u001b[0m: ufunc 'add' did not contain a loop with signature matching types (dtype('float64'), dtype('<U1')) -> None"
     ]
    },
    {
     "data": {
      "image/png": "[encoded data removed]",
      "text/plain": [
       "<Figure size 432x288 with 1 Axes>"
      ]
     },
     "metadata": {
      "needs_background": "light"
     },
     "output_type": "display_data"
    }
   ],
   "source": [
    "plt.violinplot(raw_list, positions = [1,2,3,4,5,6])\n",
    "fig = plt.gcf()\n",
    "fig.patch.set_facecolor('xkcd:white')\n",
    "\n",
    "plt.ylim(0, 200)\n",
    "locs, labels = plt.xticks()\n",
    "# plt.xticks(ticks = locs, labels = [\"\"] + X + [\"\"], rotation = 10)\n",
    "plt.savefig(\"test/test1.png\")\n",
    "plt.ylim(130, 180)\n",
    "plt.savefig(\"test/test2.png\")"
   ]
  },
  {
   "cell_type": "code",
   "execution_count": 170,
   "id": "08c4c2a1",
   "metadata": {},
   "outputs": [
    {
     "data": {
      "text/plain": [
       "['No_correction',\n",
       " 'Cutoff_1',\n",
       " 'Cutoff_3',\n",
       " 'Cutoff_10',\n",
       " 'Cutoff_30',\n",
       " 'Cutoff_100']"
      ]
     },
     "execution_count": 170,
     "metadata": {},
     "output_type": "execute_result"
    }
   ],
   "source": [
    "X"
   ]
  },
  {
   "cell_type": "code",
   "execution_count": 161,
   "id": "472ee815",
   "metadata": {},
   "outputs": [
    {
     "data": {
      "text/plain": [
       "array([0., 1., 2., 3., 4., 5., 6., 7.])"
      ]
     },
     "execution_count": 161,
     "metadata": {},
     "output_type": "execute_result"
    }
   ],
   "source": [
    "locs"
   ]
  },
  {
   "cell_type": "code",
   "execution_count": 114,
   "id": "a0bfb8dd",
   "metadata": {},
   "outputs": [
    {
     "data": {
      "text/plain": [
       "[7.347580532800357,\n",
       " 6.153080544712006,\n",
       " 3.0206885370454297,\n",
       " 2.3644791082568646,\n",
       " 1.7325993162976534,\n",
       " 1.678105400697184]"
      ]
     },
     "execution_count": 114,
     "metadata": {},
     "output_type": "execute_result"
    }
   ],
   "source": [
    "sd_list\n"
   ]
  },
  {
   "cell_type": "code",
   "execution_count": 87,
   "id": "b1a522fe",
   "metadata": {},
   "outputs": [
    {
     "data": {
      "text/plain": [
       "7.347580532800357"
      ]
     },
     "execution_count": 87,
     "metadata": {},
     "output_type": "execute_result"
    }
   ],
   "source": [
    "np.std(ls_raw)"
   ]
  },
  {
   "cell_type": "code",
   "execution_count": 89,
   "id": "39e948e9",
   "metadata": {},
   "outputs": [
    {
     "data": {
      "text/plain": [
       "6.153080544712006"
      ]
     },
     "execution_count": 89,
     "metadata": {},
     "output_type": "execute_result"
    }
   ],
   "source": [
    "cut_1 = pd.read_csv('test/7a0944b4f096ebb154369b76287b9d/5d_r1_repeat_dist_umi_correct/cutoff_1/stat_mode_23-PN_cutoff_1.csv')\n",
    "cut_1 = cut_1[cut_1.iloc[:,0] != \"problem\"]\n",
    "cut_1 = cut_1[cut_1.iloc[:, 0] != \"plus\"]\n",
    "data_cut_1 = np.repeat(cut_1.iloc[:, 0], cut_1.iloc[:, 1])\n",
    "ls_cut_1 = [int(x) for x in data_cut_1]\n",
    "np.std(ls_cut_1)"
   ]
  },
  {
   "cell_type": "code",
   "execution_count": 90,
   "id": "77e759ea",
   "metadata": {},
   "outputs": [
    {
     "data": {
      "text/plain": [
       "3.0206885370454297"
      ]
     },
     "execution_count": 90,
     "metadata": {},
     "output_type": "execute_result"
    }
   ],
   "source": [
    "cut_1 = pd.read_csv('test/7a0944b4f096ebb154369b76287b9d/5d_r1_repeat_dist_umi_correct/cutoff_3/stat_mode_23-PN_cutoff_3.csv')\n",
    "cut_1 = cut_1[cut_1.iloc[:,0] != \"problem\"]\n",
    "cut_1 = cut_1[cut_1.iloc[:, 0] != \"plus\"]\n",
    "data_cut_1 = np.repeat(cut_1.iloc[:, 0], cut_1.iloc[:, 1])\n",
    "ls_cut_1 = [int(x) for x in data_cut_1]\n",
    "np.std(ls_cut_1)"
   ]
  },
  {
   "cell_type": "code",
   "execution_count": 91,
   "id": "944d11a1",
   "metadata": {},
   "outputs": [
    {
     "data": {
      "text/plain": [
       "2.3644791082568646"
      ]
     },
     "execution_count": 91,
     "metadata": {},
     "output_type": "execute_result"
    }
   ],
   "source": [
    "cut_1 = pd.read_csv('test/7a0944b4f096ebb154369b76287b9d/5d_r1_repeat_dist_umi_correct/cutoff_10/stat_mode_23-PN_cutoff_10.csv')\n",
    "cut_1 = cut_1[cut_1.iloc[:,0] != \"problem\"]\n",
    "cut_1 = cut_1[cut_1.iloc[:, 0] != \"plus\"]\n",
    "data_cut_1 = np.repeat(cut_1.iloc[:, 0], cut_1.iloc[:, 1])\n",
    "ls_cut_1 = [int(x) for x in data_cut_1]\n",
    "np.std(ls_cut_1)"
   ]
  },
  {
   "cell_type": "code",
   "execution_count": 92,
   "id": "2f142ab6",
   "metadata": {},
   "outputs": [
    {
     "data": {
      "text/plain": [
       "1.7325993162976534"
      ]
     },
     "execution_count": 92,
     "metadata": {},
     "output_type": "execute_result"
    }
   ],
   "source": [
    "cut_1 = pd.read_csv('test/7a0944b4f096ebb154369b76287b9d/5d_r1_repeat_dist_umi_correct/cutoff_30/stat_mode_23-PN_cutoff_30.csv')\n",
    "cut_1 = cut_1[cut_1.iloc[:,0] != \"problem\"]\n",
    "cut_1 = cut_1[cut_1.iloc[:, 0] != \"plus\"]\n",
    "data_cut_1 = np.repeat(cut_1.iloc[:, 0], cut_1.iloc[:, 1])\n",
    "ls_cut_1 = [int(x) for x in data_cut_1]\n",
    "np.std(ls_cut_1)"
   ]
  },
  {
   "cell_type": "code",
   "execution_count": 93,
   "id": "9d63bdab",
   "metadata": {},
   "outputs": [
    {
     "data": {
      "text/plain": [
       "1.678105400697184"
      ]
     },
     "execution_count": 93,
     "metadata": {},
     "output_type": "execute_result"
    }
   ],
   "source": [
    "cut_1 = pd.read_csv('test/7a0944b4f096ebb154369b76287b9d/5d_r1_repeat_dist_umi_correct/cutoff_100/stat_mode_23-PN_cutoff_100.csv')\n",
    "cut_1 = cut_1[cut_1.iloc[:,0] != \"problem\"]\n",
    "cut_1 = cut_1[cut_1.iloc[:, 0] != \"plus\"]\n",
    "data_cut_1 = np.repeat(cut_1.iloc[:, 0], cut_1.iloc[:, 1])\n",
    "ls_cut_1 = [int(x) for x in data_cut_1]\n",
    "np.std(ls_cut_1)"
   ]
  },
  {
   "cell_type": "code",
   "execution_count": null,
   "id": "ed6f0e2f",
   "metadata": {},
   "outputs": [],
   "source": []
  }
 ],
 "metadata": {
  "kernelspec": {
   "display_name": "Python 3",
   "language": "python",
   "name": "python3"
  },
  "language_info": {
   "codemirror_mode": {
    "name": "ipython",
    "version": 3
   },
   "file_extension": ".py",
   "mimetype": "text/x-python",
   "name": "python",
   "nbconvert_exporter": "python",
   "pygments_lexer": "ipython3",
   "version": "3.7.7"
  }
 },
 "nbformat": 4,
 "nbformat_minor": 5
}
