{
 "cells": [
  {
   "cell_type": "code",
   "execution_count": 105,
   "id": "5fda1adb",
   "metadata": {},
   "outputs": [],
   "source": [
    "import numpy as np \n",
    "import pandas as pd\n",
    "import matplotlib.pyplot as plt\n",
    "\n",
    "cutoff_0    = \"test/7a0944b4f096ebb154369b76287b9d/stat_r1/23-PN.csv\" # tem read length without UMI correction.\n",
    "cutoff_1    = \"test/7a0944b4f096ebb154369b76287b9d/5d_r1_repeat_dist_umi_correct/cutoff_1/stat_mode_23-PN_cutoff_1.csv\"\n",
    "cutoff_3    = \"test/7a0944b4f096ebb154369b76287b9d/5d_r1_repeat_dist_umi_correct/cutoff_3/stat_mode_23-PN_cutoff_3.csv\"\n",
    "cutoff_10   = \"test/7a0944b4f096ebb154369b76287b9d/5d_r1_repeat_dist_umi_correct/cutoff_10/stat_mode_23-PN_cutoff_10.csv\"\n",
    "cutoff_30   = \"test/7a0944b4f096ebb154369b76287b9d/5d_r1_repeat_dist_umi_correct/cutoff_30/stat_mode_23-PN_cutoff_30.csv\"\n",
    "cutoff_100  = \"test/7a0944b4f096ebb154369b76287b9d/5d_r1_repeat_dist_umi_correct/cutoff_100/stat_mode_23-PN_cutoff_100.csv\"\n"
   ]
  },
  {
   "cell_type": "code",
   "execution_count": 145,
   "id": "f4afc205",
   "metadata": {},
   "outputs": [],
   "source": [
    "input_files = [cutoff_0, cutoff_1, cutoff_3, cutoff_10, cutoff_30, cutoff_100]\n",
    "sd_list = []\n",
    "raw_list = []\n",
    "\n",
    "for file in input_files:\n",
    "    tem = pd.read_csv(file)\n",
    "    tem = tem[tem.iloc[:,0] != \"problem\"]\n",
    "    tem = tem[tem.iloc[:, 0] != \"plus\"]\n",
    "    data_tem = np.repeat(tem.iloc[:, 0], tem.iloc[:, 1])\n",
    "    ls_tem = [int(x) for x in data_tem]\n",
    "    raw_list.append(ls_tem)\n",
    "    sd_list.append(np.std(ls_tem))"
   ]
  },
  {
   "cell_type": "code",
   "execution_count": 157,
   "id": "050e3cd9",
   "metadata": {},
   "outputs": [
    {
     "data": {
      "image/png": "[encoded data removed]",
      "text/plain": [
       "<Figure size 432x288 with 1 Axes>"
      ]
     },
     "metadata": {},
     "output_type": "display_data"
    }
   ],
   "source": [
    "X = [\"No_correction\", \"Cutoff_1\", \"Cutoff_3\", \"Cutoff_10\", \"Cutoff_30\", \"Cutoff_100\"]\n",
    "Y = [round(x, 2) for x in sd_list]\n",
    "plt.scatter(X, sd_list)\n",
    "plt.ylim(1, 10)\n",
    "locs, labels = plt.xticks()\n",
    "for i, label in enumerate(Y):\n",
    "    plt.annotate(label, (X[i], Y[i] * 1.05))\n",
    "fig = plt.gcf()\n",
    "fig.patch.set_facecolor('xkcd:white')\n",
    "plt.savefig(\"test/test.png\")\n",
    "# plt.xticks(ticks = locs, labels = labels)"
   ]
  },
  {
   "cell_type": "code",
   "execution_count": 176,
   "id": "792d639b",
   "metadata": {},
   "outputs": [
    {
     "data": {
      "image/png": "[encoded data removed]",
      "text/plain": [
       "<Figure size 432x288 with 1 Axes>"
      ]
     },
     "metadata": {},
     "output_type": "display_data"
    }
   ],
   "source": [
    "plt.violinplot(raw_list, positions = [1,2,3,4,5,6])\n",
    "fig = plt.gcf()\n",
    "fig.patch.set_facecolor('xkcd:white')\n",
    "\n",
    "plt.ylim(0, 200)\n",
    "locs, labels = plt.xticks()\n",
    "plt.xticks(ticks = locs, labels = [\"\"] + X + [\"\"], rotation = 10)\n",
    "plt.savefig(\"test/test1.png\")\n",
    "plt.ylim(130, 180)\n",
    "plt.savefig(\"test/test2.png\")"
   ]
  },
  {
   "cell_type": "code",
   "execution_count": 170,
   "id": "109f7db7",
   "metadata": {},
   "outputs": [
    {
     "data": {
      "text/plain": [
       "['No_correction',\n",
       " 'Cutoff_1',\n",
       " 'Cutoff_3',\n",
       " 'Cutoff_10',\n",
       " 'Cutoff_30',\n",
       " 'Cutoff_100']"
      ]
     },
     "execution_count": 170,
     "metadata": {},
     "output_type": "execute_result"
    }
   ],
   "source": [
    "X"
   ]
  },
  {
   "cell_type": "code",
   "execution_count": 161,
   "id": "3eb568b1",
   "metadata": {},
   "outputs": [
    {
     "data": {
      "text/plain": [
       "array([0., 1., 2., 3., 4., 5., 6., 7.])"
      ]
     },
     "execution_count": 161,
     "metadata": {},
     "output_type": "execute_result"
    }
   ],
   "source": [
    "locs"
   ]
  },
  {
   "cell_type": "code",
   "execution_count": 114,
   "id": "a391efaa",
   "metadata": {},
   "outputs": [
    {
     "data": {
      "text/plain": [
       "[7.347580532800357,\n",
       " 6.153080544712006,\n",
       " 3.0206885370454297,\n",
       " 2.3644791082568646,\n",
       " 1.7325993162976534,\n",
       " 1.678105400697184]"
      ]
     },
     "execution_count": 114,
     "metadata": {},
     "output_type": "execute_result"
    }
   ],
   "source": [
    "sd_list\n"
   ]
  },
  {
   "cell_type": "code",
   "execution_count": 87,
   "id": "69a76c77",
   "metadata": {},
   "outputs": [
    {
     "data": {
      "text/plain": [
       "7.347580532800357"
      ]
     },
     "execution_count": 87,
     "metadata": {},
     "output_type": "execute_result"
    }
   ],
   "source": [
    "np.std(ls_raw)"
   ]
  },
  {
   "cell_type": "code",
   "execution_count": 89,
   "id": "ecb6662b",
   "metadata": {},
   "outputs": [
    {
     "data": {
      "text/plain": [
       "6.153080544712006"
      ]
     },
     "execution_count": 89,
     "metadata": {},
     "output_type": "execute_result"
    }
   ],
   "source": [
    "cut_1 = pd.read_csv('test/7a0944b4f096ebb154369b76287b9d/5d_r1_repeat_dist_umi_correct/cutoff_1/stat_mode_23-PN_cutoff_1.csv')\n",
    "cut_1 = cut_1[cut_1.iloc[:,0] != \"problem\"]\n",
    "cut_1 = cut_1[cut_1.iloc[:, 0] != \"plus\"]\n",
    "data_cut_1 = np.repeat(cut_1.iloc[:, 0], cut_1.iloc[:, 1])\n",
    "ls_cut_1 = [int(x) for x in data_cut_1]\n",
    "np.std(ls_cut_1)"
   ]
  },
  {
   "cell_type": "code",
   "execution_count": 90,
   "id": "6f310e03",
   "metadata": {},
   "outputs": [
    {
     "data": {
      "text/plain": [
       "3.0206885370454297"
      ]
     },
     "execution_count": 90,
     "metadata": {},
     "output_type": "execute_result"
    }
   ],
   "source": [
    "cut_1 = pd.read_csv('test/7a0944b4f096ebb154369b76287b9d/5d_r1_repeat_dist_umi_correct/cutoff_3/stat_mode_23-PN_cutoff_3.csv')\n",
    "cut_1 = cut_1[cut_1.iloc[:,0] != \"problem\"]\n",
    "cut_1 = cut_1[cut_1.iloc[:, 0] != \"plus\"]\n",
    "data_cut_1 = np.repeat(cut_1.iloc[:, 0], cut_1.iloc[:, 1])\n",
    "ls_cut_1 = [int(x) for x in data_cut_1]\n",
    "np.std(ls_cut_1)"
   ]
  },
  {
   "cell_type": "code",
   "execution_count": 91,
   "id": "134a1436",
   "metadata": {},
   "outputs": [
    {
     "data": {
      "text/plain": [
       "2.3644791082568646"
      ]
     },
     "execution_count": 91,
     "metadata": {},
     "output_type": "execute_result"
    }
   ],
   "source": [
    "cut_1 = pd.read_csv('test/7a0944b4f096ebb154369b76287b9d/5d_r1_repeat_dist_umi_correct/cutoff_10/stat_mode_23-PN_cutoff_10.csv')\n",
    "cut_1 = cut_1[cut_1.iloc[:,0] != \"problem\"]\n",
    "cut_1 = cut_1[cut_1.iloc[:, 0] != \"plus\"]\n",
    "data_cut_1 = np.repeat(cut_1.iloc[:, 0], cut_1.iloc[:, 1])\n",
    "ls_cut_1 = [int(x) for x in data_cut_1]\n",
    "np.std(ls_cut_1)"
   ]
  },
  {
   "cell_type": "code",
   "execution_count": 92,
   "id": "1006cfd7",
   "metadata": {},
   "outputs": [
    {
     "data": {
      "text/plain": [
       "1.7325993162976534"
      ]
     },
     "execution_count": 92,
     "metadata": {},
     "output_type": "execute_result"
    }
   ],
   "source": [
    "cut_1 = pd.read_csv('test/7a0944b4f096ebb154369b76287b9d/5d_r1_repeat_dist_umi_correct/cutoff_30/stat_mode_23-PN_cutoff_30.csv')\n",
    "cut_1 = cut_1[cut_1.iloc[:,0] != \"problem\"]\n",
    "cut_1 = cut_1[cut_1.iloc[:, 0] != \"plus\"]\n",
    "data_cut_1 = np.repeat(cut_1.iloc[:, 0], cut_1.iloc[:, 1])\n",
    "ls_cut_1 = [int(x) for x in data_cut_1]\n",
    "np.std(ls_cut_1)"
   ]
  },
  {
   "cell_type": "code",
   "execution_count": 93,
   "id": "825cc3e6",
   "metadata": {},
   "outputs": [
    {
     "data": {
      "text/plain": [
       "1.678105400697184"
      ]
     },
     "execution_count": 93,
     "metadata": {},
     "output_type": "execute_result"
    }
   ],
   "source": [
    "cut_1 = pd.read_csv('test/7a0944b4f096ebb154369b76287b9d/5d_r1_repeat_dist_umi_correct/cutoff_100/stat_mode_23-PN_cutoff_100.csv')\n",
    "cut_1 = cut_1[cut_1.iloc[:,0] != \"problem\"]\n",
    "cut_1 = cut_1[cut_1.iloc[:, 0] != \"plus\"]\n",
    "data_cut_1 = np.repeat(cut_1.iloc[:, 0], cut_1.iloc[:, 1])\n",
    "ls_cut_1 = [int(x) for x in data_cut_1]\n",
    "np.std(ls_cut_1)"
   ]
  },
  {
   "cell_type": "code",
   "execution_count": null,
   "id": "bdeae52f",
   "metadata": {},
   "outputs": [],
   "source": []
  }
 ],
 "metadata": {
  "kernelspec": {
   "display_name": "Python 3",
   "language": "python",
   "name": "python3"
  },
  "language_info": {
   "codemirror_mode": {
    "name": "ipython",
    "version": 3
   },
   "file_extension": ".py",
   "mimetype": "text/x-python",
   "name": "python",
   "nbconvert_exporter": "python",
   "pygments_lexer": "ipython3",
   "version": "3.7.7"
  }
 },
 "nbformat": 4,
 "nbformat_minor": 5
}
